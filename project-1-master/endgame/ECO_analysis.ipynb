{
 "cells": [
  {
   "cell_type": "code",
   "execution_count": 1,
   "metadata": {},
   "outputs": [],
   "source": [
    "import pandas as pd\n",
    "import matplotlib.pyplot as plt\n",
    "import numpy as np"
   ]
  },
  {
   "cell_type": "code",
   "execution_count": 2,
   "metadata": {},
   "outputs": [
    {
     "data": {
      "text/html": [
       "<div>\n",
       "<style scoped>\n",
       "    .dataframe tbody tr th:only-of-type {\n",
       "        vertical-align: middle;\n",
       "    }\n",
       "\n",
       "    .dataframe tbody tr th {\n",
       "        vertical-align: top;\n",
       "    }\n",
       "\n",
       "    .dataframe thead th {\n",
       "        text-align: right;\n",
       "    }\n",
       "</style>\n",
       "<table border=\"1\" class=\"dataframe\">\n",
       "  <thead>\n",
       "    <tr style=\"text-align: right;\">\n",
       "      <th></th>\n",
       "      <th>Unnamed: 0</th>\n",
       "      <th>White Elo</th>\n",
       "      <th>Black Elo</th>\n",
       "      <th>Result</th>\n",
       "      <th>Opening</th>\n",
       "      <th>ECO</th>\n",
       "      <th>White Score</th>\n",
       "    </tr>\n",
       "  </thead>\n",
       "  <tbody>\n",
       "    <tr>\n",
       "      <th>0</th>\n",
       "      <td>0</td>\n",
       "      <td>1489</td>\n",
       "      <td>1797</td>\n",
       "      <td>0-1</td>\n",
       "      <td>French Defense: Carlson Gambit</td>\n",
       "      <td>C01</td>\n",
       "      <td>-1</td>\n",
       "    </tr>\n",
       "    <tr>\n",
       "      <th>1</th>\n",
       "      <td>1</td>\n",
       "      <td>1379</td>\n",
       "      <td>1558</td>\n",
       "      <td>0-1</td>\n",
       "      <td>Lion Defense: Lion's Jaw</td>\n",
       "      <td>B07</td>\n",
       "      <td>-1</td>\n",
       "    </tr>\n",
       "    <tr>\n",
       "      <th>2</th>\n",
       "      <td>2</td>\n",
       "      <td>1666</td>\n",
       "      <td>1258</td>\n",
       "      <td>1-0</td>\n",
       "      <td>King's Gambit Accepted, Fischer Defense</td>\n",
       "      <td>C34</td>\n",
       "      <td>1</td>\n",
       "    </tr>\n",
       "    <tr>\n",
       "      <th>3</th>\n",
       "      <td>3</td>\n",
       "      <td>1528</td>\n",
       "      <td>1662</td>\n",
       "      <td>0-1</td>\n",
       "      <td>Scandinavian Defense: Mieses-Kotroc Variation</td>\n",
       "      <td>B01</td>\n",
       "      <td>-1</td>\n",
       "    </tr>\n",
       "    <tr>\n",
       "      <th>4</th>\n",
       "      <td>4</td>\n",
       "      <td>1528</td>\n",
       "      <td>1504</td>\n",
       "      <td>1-0</td>\n",
       "      <td>Scandinavian Defense: Mieses-Kotroc Variation</td>\n",
       "      <td>B01</td>\n",
       "      <td>1</td>\n",
       "    </tr>\n",
       "  </tbody>\n",
       "</table>\n",
       "</div>"
      ],
      "text/plain": [
       "   Unnamed: 0  White Elo  Black Elo Result  \\\n",
       "0           0       1489       1797    0-1   \n",
       "1           1       1379       1558    0-1   \n",
       "2           2       1666       1258    1-0   \n",
       "3           3       1528       1662    0-1   \n",
       "4           4       1528       1504    1-0   \n",
       "\n",
       "                                         Opening  ECO  White Score  \n",
       "0                 French Defense: Carlson Gambit  C01           -1  \n",
       "1                       Lion Defense: Lion's Jaw  B07           -1  \n",
       "2        King's Gambit Accepted, Fischer Defense  C34            1  \n",
       "3  Scandinavian Defense: Mieses-Kotroc Variation  B01           -1  \n",
       "4  Scandinavian Defense: Mieses-Kotroc Variation  B01            1  "
      ]
     },
     "execution_count": 2,
     "metadata": {},
     "output_type": "execute_result"
    }
   ],
   "source": [
    "test = pd.read_csv(\"lichess_2015.csv\")\n",
    "test.head()"
   ]
  },
  {
   "cell_type": "code",
   "execution_count": 3,
   "metadata": {},
   "outputs": [
    {
     "data": {
      "image/png": "[encoded data removed]",
      "text/plain": [
       "<Figure size 432x288 with 1 Axes>"
      ]
     },
     "metadata": {
      "needs_background": "light"
     },
     "output_type": "display_data"
    }
   ],
   "source": [
    "opening_df = test.groupby([\"ECO\"])\n",
    "opening_results = pd.DataFrame(opening_df[\"White Score\"].mean())\n",
    "opening_count = opening_df[\"Result\"].count()\n",
    "opening_results[\"Count\"] = opening_count\n",
    "filtered_openings = opening_results.loc[opening_results[\"Count\"] > 1000]\n",
    "sort_eco = filtered_openings.sort_values(\"White Score\", ascending=True)\n",
    "sort_eco.iloc[1:10].plot(kind='bar', y=\"White Score\", color=\"red\")\n",
    "plt.show()"
   ]
  },
  {
   "cell_type": "code",
   "execution_count": 4,
   "metadata": {},
   "outputs": [
    {
     "data": {
      "image/png": "[encoded data removed]",
      "text/plain": [
       "<Figure size 432x288 with 1 Axes>"
      ]
     },
     "metadata": {
      "needs_background": "light"
     },
     "output_type": "display_data"
    }
   ],
   "source": [
    "sort_eco_dec = filtered_openings.sort_values(\"White Score\", ascending=False)\n",
    "sort_eco_dec.iloc[1:10].plot(kind='bar', y=\"White Score\", color=\"green\")\n",
    "plt.show()"
   ]
  },
  {
   "cell_type": "code",
   "execution_count": 25,
   "metadata": {},
   "outputs": [
    {
     "data": {
      "text/html": [
       "<div>\n",
       "<style scoped>\n",
       "    .dataframe tbody tr th:only-of-type {\n",
       "        vertical-align: middle;\n",
       "    }\n",
       "\n",
       "    .dataframe tbody tr th {\n",
       "        vertical-align: top;\n",
       "    }\n",
       "\n",
       "    .dataframe thead th {\n",
       "        text-align: right;\n",
       "    }\n",
       "</style>\n",
       "<table border=\"1\" class=\"dataframe\">\n",
       "  <thead>\n",
       "    <tr style=\"text-align: right;\">\n",
       "      <th></th>\n",
       "      <th>Unnamed: 0</th>\n",
       "      <th>White Elo</th>\n",
       "      <th>Black Elo</th>\n",
       "      <th>Result</th>\n",
       "      <th>Opening</th>\n",
       "      <th>ECO</th>\n",
       "      <th>White Score</th>\n",
       "    </tr>\n",
       "  </thead>\n",
       "  <tbody>\n",
       "    <tr>\n",
       "      <th>0</th>\n",
       "      <td>0</td>\n",
       "      <td>1489</td>\n",
       "      <td>1797</td>\n",
       "      <td>0-1</td>\n",
       "      <td>French Defense: Carlson Gambit</td>\n",
       "      <td>C01</td>\n",
       "      <td>-1</td>\n",
       "    </tr>\n",
       "    <tr>\n",
       "      <th>1</th>\n",
       "      <td>1</td>\n",
       "      <td>1379</td>\n",
       "      <td>1558</td>\n",
       "      <td>0-1</td>\n",
       "      <td>Lion Defense: Lion's Jaw</td>\n",
       "      <td>B07</td>\n",
       "      <td>-1</td>\n",
       "    </tr>\n",
       "    <tr>\n",
       "      <th>2</th>\n",
       "      <td>2</td>\n",
       "      <td>1666</td>\n",
       "      <td>1258</td>\n",
       "      <td>1-0</td>\n",
       "      <td>King's Gambit Accepted, Fischer Defense</td>\n",
       "      <td>C34</td>\n",
       "      <td>1</td>\n",
       "    </tr>\n",
       "    <tr>\n",
       "      <th>3</th>\n",
       "      <td>3</td>\n",
       "      <td>1528</td>\n",
       "      <td>1662</td>\n",
       "      <td>0-1</td>\n",
       "      <td>Scandinavian Defense: Mieses-Kotroc Variation</td>\n",
       "      <td>B01</td>\n",
       "      <td>-1</td>\n",
       "    </tr>\n",
       "    <tr>\n",
       "      <th>4</th>\n",
       "      <td>4</td>\n",
       "      <td>1528</td>\n",
       "      <td>1504</td>\n",
       "      <td>1-0</td>\n",
       "      <td>Scandinavian Defense: Mieses-Kotroc Variation</td>\n",
       "      <td>B01</td>\n",
       "      <td>1</td>\n",
       "    </tr>\n",
       "  </tbody>\n",
       "</table>\n",
       "</div>"
      ],
      "text/plain": [
       "   Unnamed: 0  White Elo  Black Elo Result  \\\n",
       "0           0       1489       1797    0-1   \n",
       "1           1       1379       1558    0-1   \n",
       "2           2       1666       1258    1-0   \n",
       "3           3       1528       1662    0-1   \n",
       "4           4       1528       1504    1-0   \n",
       "\n",
       "                                         Opening  ECO  White Score  \n",
       "0                 French Defense: Carlson Gambit  C01           -1  \n",
       "1                       Lion Defense: Lion's Jaw  B07           -1  \n",
       "2        King's Gambit Accepted, Fischer Defense  C34            1  \n",
       "3  Scandinavian Defense: Mieses-Kotroc Variation  B01           -1  \n",
       "4  Scandinavian Defense: Mieses-Kotroc Variation  B01            1  "
      ]
     },
     "execution_count": 25,
     "metadata": {},
     "output_type": "execute_result"
    }
   ],
   "source": [
    "test.head()"
   ]
  },
  {
   "cell_type": "code",
   "execution_count": 7,
   "metadata": {},
   "outputs": [],
   "source": [
    "test[\"Diff\"] = (test[\"White Elo\"] - test[\"Black Elo\"])\n",
    "min_diff = np.min(test[\"Diff\"])\n",
    "max_diff = np.max(test[\"Diff\"])"
   ]
  },
  {
   "cell_type": "code",
   "execution_count": 14,
   "metadata": {},
   "outputs": [
    {
     "data": {
      "text/html": [
       "<div>\n",
       "<style scoped>\n",
       "    .dataframe tbody tr th:only-of-type {\n",
       "        vertical-align: middle;\n",
       "    }\n",
       "\n",
       "    .dataframe tbody tr th {\n",
       "        vertical-align: top;\n",
       "    }\n",
       "\n",
       "    .dataframe thead th {\n",
       "        text-align: right;\n",
       "    }\n",
       "</style>\n",
       "<table border=\"1\" class=\"dataframe\">\n",
       "  <thead>\n",
       "    <tr style=\"text-align: right;\">\n",
       "      <th></th>\n",
       "      <th>White Score</th>\n",
       "      <th>Number of Games</th>\n",
       "    </tr>\n",
       "    <tr>\n",
       "      <th>Diff</th>\n",
       "      <th></th>\n",
       "      <th></th>\n",
       "    </tr>\n",
       "  </thead>\n",
       "  <tbody>\n",
       "    <tr>\n",
       "      <th>(-1622.0, -1452.684]</th>\n",
       "      <td>-1.000000</td>\n",
       "      <td>4</td>\n",
       "    </tr>\n",
       "    <tr>\n",
       "      <th>(-1452.684, -1283.368]</th>\n",
       "      <td>-1.000000</td>\n",
       "      <td>20</td>\n",
       "    </tr>\n",
       "    <tr>\n",
       "      <th>(-1283.368, -1114.053]</th>\n",
       "      <td>-0.925234</td>\n",
       "      <td>107</td>\n",
       "    </tr>\n",
       "    <tr>\n",
       "      <th>(-1114.053, -944.737]</th>\n",
       "      <td>-0.913644</td>\n",
       "      <td>579</td>\n",
       "    </tr>\n",
       "    <tr>\n",
       "      <th>(-944.737, -775.421]</th>\n",
       "      <td>-0.877358</td>\n",
       "      <td>2544</td>\n",
       "    </tr>\n",
       "    <tr>\n",
       "      <th>(-775.421, -606.105]</th>\n",
       "      <td>-0.844474</td>\n",
       "      <td>9156</td>\n",
       "    </tr>\n",
       "    <tr>\n",
       "      <th>(-606.105, -436.789]</th>\n",
       "      <td>-0.765464</td>\n",
       "      <td>33044</td>\n",
       "    </tr>\n",
       "    <tr>\n",
       "      <th>(-436.789, -267.474]</th>\n",
       "      <td>-0.610364</td>\n",
       "      <td>109279</td>\n",
       "    </tr>\n",
       "    <tr>\n",
       "      <th>(-267.474, -98.158]</th>\n",
       "      <td>-0.335944</td>\n",
       "      <td>363394</td>\n",
       "    </tr>\n",
       "    <tr>\n",
       "      <th>(-98.158, 71.158]</th>\n",
       "      <td>0.006987</td>\n",
       "      <td>828866</td>\n",
       "    </tr>\n",
       "    <tr>\n",
       "      <th>(71.158, 240.474]</th>\n",
       "      <td>0.340682</td>\n",
       "      <td>452692</td>\n",
       "    </tr>\n",
       "    <tr>\n",
       "      <th>(240.474, 409.789]</th>\n",
       "      <td>0.615576</td>\n",
       "      <td>141859</td>\n",
       "    </tr>\n",
       "    <tr>\n",
       "      <th>(409.789, 579.105]</th>\n",
       "      <td>0.767960</td>\n",
       "      <td>42066</td>\n",
       "    </tr>\n",
       "    <tr>\n",
       "      <th>(579.105, 748.421]</th>\n",
       "      <td>0.842950</td>\n",
       "      <td>12219</td>\n",
       "    </tr>\n",
       "    <tr>\n",
       "      <th>(748.421, 917.737]</th>\n",
       "      <td>0.868553</td>\n",
       "      <td>3180</td>\n",
       "    </tr>\n",
       "    <tr>\n",
       "      <th>(917.737, 1087.053]</th>\n",
       "      <td>0.873578</td>\n",
       "      <td>791</td>\n",
       "    </tr>\n",
       "    <tr>\n",
       "      <th>(1087.053, 1256.368]</th>\n",
       "      <td>0.942308</td>\n",
       "      <td>156</td>\n",
       "    </tr>\n",
       "    <tr>\n",
       "      <th>(1256.368, 1425.684]</th>\n",
       "      <td>0.878788</td>\n",
       "      <td>33</td>\n",
       "    </tr>\n",
       "    <tr>\n",
       "      <th>(1425.684, 1595.0]</th>\n",
       "      <td>1.000000</td>\n",
       "      <td>10</td>\n",
       "    </tr>\n",
       "  </tbody>\n",
       "</table>\n",
       "</div>"
      ],
      "text/plain": [
       "                        White Score  Number of Games\n",
       "Diff                                                \n",
       "(-1622.0, -1452.684]      -1.000000                4\n",
       "(-1452.684, -1283.368]    -1.000000               20\n",
       "(-1283.368, -1114.053]    -0.925234              107\n",
       "(-1114.053, -944.737]     -0.913644              579\n",
       "(-944.737, -775.421]      -0.877358             2544\n",
       "(-775.421, -606.105]      -0.844474             9156\n",
       "(-606.105, -436.789]      -0.765464            33044\n",
       "(-436.789, -267.474]      -0.610364           109279\n",
       "(-267.474, -98.158]       -0.335944           363394\n",
       "(-98.158, 71.158]          0.006987           828866\n",
       "(71.158, 240.474]          0.340682           452692\n",
       "(240.474, 409.789]         0.615576           141859\n",
       "(409.789, 579.105]         0.767960            42066\n",
       "(579.105, 748.421]         0.842950            12219\n",
       "(748.421, 917.737]         0.868553             3180\n",
       "(917.737, 1087.053]        0.873578              791\n",
       "(1087.053, 1256.368]       0.942308              156\n",
       "(1256.368, 1425.684]       0.878788               33\n",
       "(1425.684, 1595.0]         1.000000               10"
      ]
     },
     "execution_count": 14,
     "metadata": {},
     "output_type": "execute_result"
    }
   ],
   "source": [
    "#bins = pd.cut(test[\"Diff\"], 20)\n",
    "score = pd.DataFrame(test.groupby(pd.cut(test[\"Diff\"], bins))[\"White Score\"].mean())\n",
    "score[\"Number of Games\"] = test.groupby(pd.cut(test[\"Diff\"], bins))[\"ECO\"].count()\n",
    "score"
   ]
  },
  {
   "cell_type": "code",
   "execution_count": 32,
   "metadata": {},
   "outputs": [],
   "source": [
    "bins = np.linspace(min_diff, max_diff, 20)\n",
    "center = np.array([])\n",
    "for i in range(len(bins) - 1):\n",
    "    center = np.append(center, ((bins[i] + bins[i + 1])/2.))"
   ]
  },
  {
   "cell_type": "code",
   "execution_count": 51,
   "metadata": {},
   "outputs": [
    {
     "data": {
      "image/png": "[encoded data removed]",
      "text/plain": [
       "<Figure size 432x288 with 1 Axes>"
      ]
     },
     "metadata": {
      "needs_background": "light"
     },
     "output_type": "display_data"
    }
   ],
   "source": [
    "plt.scatter(center, score[\"White Score\"].values, s= .001 * score[\"Number of Games\"].values)\n",
    "plt.show()"
   ]
  },
  {
   "cell_type": "code",
   "execution_count": 27,
   "metadata": {},
   "outputs": [
    {
     "name": "stdout",
     "output_type": "stream",
     "text": [
      "\n",
      "INSTALLED VERSIONS\n",
      "------------------\n",
      "commit: None\n",
      "python: 3.6.8.final.0\n",
      "python-bits: 64\n",
      "OS: Darwin\n",
      "OS-release: 18.6.0\n",
      "machine: x86_64\n",
      "processor: i386\n",
      "byteorder: little\n",
      "LC_ALL: None\n",
      "LANG: en_US.UTF-8\n",
      "LOCALE: en_US.UTF-8\n",
      "\n",
      "pandas: 0.24.2\n",
      "pytest: None\n",
      "pip: 18.1\n",
      "setuptools: 40.6.2\n",
      "Cython: 0.29.10\n",
      "numpy: 1.16.4\n",
      "scipy: 1.3.0\n",
      "pyarrow: None\n",
      "xarray: None\n",
      "IPython: 7.5.0\n",
      "sphinx: None\n",
      "patsy: None\n",
      "dateutil: 2.8.0\n",
      "pytz: 2019.1\n",
      "blosc: None\n",
      "bottleneck: None\n",
      "tables: None\n",
      "numexpr: None\n",
      "feather: None\n",
      "matplotlib: 3.1.0\n",
      "openpyxl: None\n",
      "xlrd: None\n",
      "xlwt: None\n",
      "xlsxwriter: None\n",
      "lxml.etree: None\n",
      "bs4: None\n",
      "html5lib: None\n",
      "sqlalchemy: None\n",
      "pymysql: None\n",
      "psycopg2: None\n",
      "jinja2: 2.10.1\n",
      "s3fs: None\n",
      "fastparquet: None\n",
      "pandas_gbq: None\n",
      "pandas_datareader: None\n",
      "gcsfs: None\n"
     ]
    }
   ],
   "source": [
    "pd.show_versions()"
   ]
  },
  {
   "cell_type": "code",
   "execution_count": 52,
   "metadata": {},
   "outputs": [],
   "source": [
    "A = np.random.rand(5)\n",
    "B = np.random.rand(5)\n",
    "C = np.random.rand(5)"
   ]
  },
  {
   "cell_type": "code",
   "execution_count": null,
   "metadata": {},
   "outputs": [],
   "source": [
    "plt.bar"
   ]
  }
 ],
 "metadata": {
  "@webio": {
   "lastCommId": null,
   "lastKernelId": null
  },
  "kernelspec": {
   "display_name": "PythonData",
   "language": "python",
   "name": "pythondata"
  },
  "language_info": {
   "codemirror_mode": {
    "name": "ipython",
    "version": 3
   },
   "file_extension": ".py",
   "mimetype": "text/x-python",
   "name": "python",
   "nbconvert_exporter": "python",
   "pygments_lexer": "ipython3",
   "version": "3.6.8"
  }
 },
 "nbformat": 4,
 "nbformat_minor": 2
}
